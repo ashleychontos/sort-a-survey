{
 "cells": [
  {
   "cell_type": "code",
   "execution_count": 1,
   "metadata": {},
   "outputs": [],
   "source": [
    "# PLEASE NOTE:\n",
    "# This software was mostly made for convenient use with command-line interface (CLI),\n",
    "# but sortasurvey.notebook contains copies of similar classes and functions to be easier \n",
    "# implemented in scripts or jupyter notebooks for demonstrative purposes\n",
    "\n",
    "import os\n",
    "import numpy as np\n",
    "import pandas as pd\n",
    "from tqdm import tqdm\n",
    "from sortasurvey.notebook import Survey, rank"
   ]
  },
  {
   "cell_type": "markdown",
   "metadata": {},
   "source": [
    "### The software is centered around the Survey class"
   ]
  },
  {
   "cell_type": "code",
   "execution_count": 2,
   "metadata": {},
   "outputs": [
    {
     "name": "stdout",
     "output_type": "stream",
     "text": [
      "['toi', 'tic', 'cps_name', 'evol', 'source', 'disp', 'photo_vetting', 'spec_vetting', 'ao_vetting', 'ra', 'dec', 'tmag', 'tmag_err', 'bmag', 'vmag', 'b_v', 'jmag', 'hmag', 'kmag', 'gmag', 'nobs', 'last_observed', 'template', 'nobs_goal', 'tot_time', 'rem_nobs', 'rem_time', 'rs', 'rs_err', 'r_s', 'm_s', 'teff', 'teff_err', 't_eff', 'teff_jump', 'logg', 'logg_err', 'logg_jump', 'feh', 'f_eh', 'ast_det_c', 'c_sector', 'ast_det_t', 't_sector', 'color', 'vsini', 'prot', 'sval', 'sigma_act', 'sigma_rot', 'sigma_gran', 'sigma_rv', 'sigma_tot', 'limit', 'logrhk', 'ruwe', 'rp', 'rp_err', 'mp', 'k', 'kerr', 'ksig', 'epoch', 'epoch_err', 'period', 'period_err', 'dur', 'dur_err', 'a_to_R', 'depth', 'depth_err', 'teq', 'sinc', 'SNR', 'nobs_5sig', 'rt_5sig', 'tt_5sig', 'nobs_10sig', 'rt_10sig', 'tt_10sig', 'alerted', 'updated', 'drop', 'finish', 'npl', 'select_DG', 'in_other_programs', 'n_select', 'in_SC1A', 'in_SC1B', 'in_SC1C', 'in_SC1D', 'in_SC1E', 'in_SC2A', 'in_SC2Bi', 'in_SC2Bii', 'in_SC2C', 'in_SC3', 'in_SC4', 'in_TOA', 'in_TOB', 'TSM', 'SC3_bin_rank']\n"
     ]
    }
   ],
   "source": [
    "# The software is centered around the Survey class, which contains both programmatic\n",
    "# information (via path_survey) and the sample to select from (via path_sample) for\n",
    "# the survey. There are options for any high priority targets and similarly, targets\n",
    "# to ignore in the selection process. The the latter two must have columns that match\n",
    "# the program names (str) within the surveyl (default is `None`)\n",
    "\n",
    "path_sample='../info/TOIs_perfect.csv'\n",
    "path_survey='../info/survey_info.csv'\n",
    "path_priority='../info/high_priority.csv'\n",
    "path_ignore='../info/no_no.csv'\n",
    "\n",
    "TKS = Survey(path_sample=path_sample, path_survey=path_survey, path_priority=path_priority, path_ignore=path_ignore)\n",
    "# As expected, the sample is stored to the Survey.sample attribute\n",
    "candidates = TKS.sample\n",
    "# We can take a look at what columns are available for target selection purposes\n",
    "print(candidates.columns.values.tolist())"
   ]
  },
  {
   "cell_type": "markdown",
   "metadata": {},
   "source": [
    "### View TKS science programs"
   ]
  },
  {
   "cell_type": "code",
   "execution_count": 3,
   "metadata": {},
   "outputs": [
    {
     "name": "stdout",
     "output_type": "stream",
     "text": [
      "['SC1A', 'SC1B', 'SC1C', 'SC1D', 'SC1E', 'SC2A', 'SC2Bi', 'SC2Bii', 'SC2C', 'SC3', 'SC4', 'TOA', 'TOB']\n"
     ]
    }
   ],
   "source": [
    "# Similarly, all TKS science-case specific information is stored to Survey.programs,\n",
    "# a pandas.DataFrame with program names as the index to make it easier to access \n",
    "# specific information\n",
    "\n",
    "# Here is the complete list of TKS programs\n",
    "print(TKS.programs.index.values.tolist())"
   ]
  },
  {
   "cell_type": "markdown",
   "metadata": {},
   "source": [
    "### Get specific details for a specific TKS program"
   ]
  },
  {
   "cell_type": "code",
   "execution_count": 4,
   "metadata": {
    "scrolled": true
   },
   "outputs": [
    {
     "name": "stdout",
     "output_type": "stream",
     "text": [
      "name                                                            SC2C\n",
      "method                                    hires-nobs=100-counts=ramp\n",
      "filter             photo_vetting == 'passed' and spec_vetting != ...\n",
      "prioritize_by                                     [npl, actual_cost]\n",
      "ascending_by                                           [False, True]\n",
      "remaining_hours                                               47.619\n",
      "n_maximum                                                          4\n",
      "total_time                                                    47.619\n",
      "high_priority                                                     []\n",
      "n_targets_left                                                     4\n",
      "pick_number                                                        0\n",
      "Name: SC2C, dtype: object\n"
     ]
    }
   ],
   "source": [
    "# Let's take a look at the TKS multis program\n",
    "case = 'SC2C'\n",
    "\n",
    "print(TKS.programs.loc[case])"
   ]
  },
  {
   "cell_type": "code",
   "execution_count": 5,
   "metadata": {},
   "outputs": [],
   "source": [
    "# Primarily, each science case within a survey needs:\n",
    "# 1) an observing strategy (aka method)\n",
    "# 2) selection criteria (aka filter using the sample columns)\n",
    "# 3) prioritization metrics (can be more than one, as is the case here)\n",
    "# 4) allocated time\n",
    "# and optionally:\n",
    "# 5) a set number of selection (n_maximum, which is 4 here. so SC2C can only select up to 4 targets.)\n",
    "# \n",
    "# The values for 'remaining_hours' and 'pick_number' will be updated during\n",
    "# the selection process, providing ways to identify when the selection process\n",
    "# would crash, i.e. if a selected program cannot afford their selected target\n",
    "# and/or if the program runs out of selections"
   ]
  },
  {
   "cell_type": "markdown",
   "metadata": {},
   "source": [
    "## $\\rm Run\\; ranking\\; algorithm$"
   ]
  },
  {
   "cell_type": "code",
   "execution_count": 6,
   "metadata": {},
   "outputs": [
    {
     "name": "stdout",
     "output_type": "stream",
     "text": [
      "\n",
      " -- prioritization starting --\n",
      "\n",
      "   - loading sample and survey science information\n",
      "   - 785 targets make the standard survey cuts\n",
      "   - 242 have also passed various vetting steps\n",
      "   - ranking algorithm initialized\n",
      "   - algorithm took 44 seconds to run\n",
      "   - 83 targets were selected\n",
      "   - making data products\n",
      "   - copy of updated sample information saved\n",
      "   - algorithm history saved as ranking steps\n",
      "   - final prioritized list saved\n",
      "   - program overlap csv saved\n",
      "   - txt file containing run information saved\n",
      "\n",
      " --- process complete ---\n",
      "\n",
      "Tue 06/08/21 04:59PM\n",
      "Seed no: 2222\n",
      "Out of the 83 total targets:\n",
      "  - SC1A has 27 targets\n",
      "  - SC1B has 19 targets\n",
      "  - SC1C has 6 targets\n",
      "  - SC1D has 4 targets\n",
      "  - SC1E has 3 targets\n",
      "  - SC2A has 40 targets\n",
      "  - SC2Bi has 5 targets\n",
      "  - SC2Bii has 0 targets\n",
      "  - SC2C has 4 targets\n",
      "  - SC3 has 20 targets\n",
      "  - SC4 has 16 targets\n",
      "  - TOA has 83 targets\n",
      "  - TOB has 8 targets\n",
      "\n"
     ]
    }
   ],
   "source": [
    "rank(TKS)"
   ]
  },
  {
   "cell_type": "markdown",
   "metadata": {},
   "source": [
    "---------------------------------------------------------------------------------------------------------------------"
   ]
  },
  {
   "cell_type": "markdown",
   "metadata": {},
   "source": [
    "# $\\rm \\textbf{SUMMARY RESULTS} $"
   ]
  },
  {
   "cell_type": "markdown",
   "metadata": {},
   "source": [
    "### $\\rm Number\\; of\\; targets\\; in\\; each\\; program$"
   ]
  },
  {
   "cell_type": "code",
   "execution_count": null,
   "metadata": {},
   "outputs": [],
   "source": [
    "data.get_stats()"
   ]
  },
  {
   "cell_type": "markdown",
   "metadata": {},
   "source": [
    "### $\\rm See\\; selected \\; targets$"
   ]
  },
  {
   "cell_type": "code",
   "execution_count": null,
   "metadata": {
    "scrolled": false
   },
   "outputs": [],
   "source": [
    "print(data.observed)"
   ]
  },
  {
   "cell_type": "markdown",
   "metadata": {},
   "source": [
    "### $\\rm See\\; overlap$"
   ]
  },
  {
   "cell_type": "code",
   "execution_count": null,
   "metadata": {
    "scrolled": false
   },
   "outputs": [],
   "source": [
    "print(data.overlap.head())"
   ]
  },
  {
   "cell_type": "markdown",
   "metadata": {},
   "source": [
    "## $\\rm Check\\; amount\\; of\\; overlap\\; for\\; targets \\; selected\\; from\\; a\\; given\\; program$"
   ]
  },
  {
   "cell_type": "code",
   "execution_count": null,
   "metadata": {},
   "outputs": [],
   "source": [
    "science_case = 'SC2A'\n",
    "\n",
    "program = data.overlap.query(\"in_%s == 'X'\"%science_case)\n",
    "\n",
    "# how many have 5 or more programs?\n",
    "query = program.query('total_programs >= 5')\n",
    "print('%d picked targets had large overlap (>= 5 programs) with other programs'%len(query))"
   ]
  },
  {
   "cell_type": "markdown",
   "metadata": {},
   "source": [
    "## $\\rm Knowing\\; the\\; starting\\; sample\\; vs\\; the \\; final\\; sample\\; for\\; a\\; given\\; program$"
   ]
  },
  {
   "cell_type": "code",
   "execution_count": null,
   "metadata": {},
   "outputs": [],
   "source": [
    "from ranking import Sample\n",
    "\n",
    "science = 'SC2A'\n",
    "tks = Sample(data.final)\n",
    "\n",
    "sc2 = tks.in_science(science)\n",
    "print('There was %d relevant targets to choose from'%len(sc2))\n",
    "sc2 = tks.in_sample(science)\n",
    "print('%d of them were selected'%len(sc2))"
   ]
  },
  {
   "cell_type": "code",
   "execution_count": null,
   "metadata": {},
   "outputs": [],
   "source": [
    "%pylab inline\n",
    "\n",
    "\n",
    "df2 = data.final\n",
    "program = data.final.query(\"in_%s == 1\"%science_case)\n",
    "\n",
    "rp_all = df2.rp.values.tolist()\n",
    "sinc_all = df2.sinc.values.tolist()\n",
    "rp = program.rp.values.tolist()\n",
    "sinc = program.sinc.values.tolist()\n",
    "\n",
    "plt.figure(figsize = (14,8))\n",
    "\n",
    "ax = plt.subplot(1,1,1)\n",
    "p1 = (1e6, 2.1)\n",
    "p2 = (800, 3.8)\n",
    "plt.plot((p1[0], p2[0], p2[0], p1[0]), (p1[1], p1[1], p2[1], p2[1]), 'k--', zorder = 0, label = r'$\\rm Super$-$\\rm Earth \\; Desert$')\n",
    "ax.scatter(sinc_all, rp_all, c = '0.75', s = 100., zorder = 0, label = r'$\\rm Full \\; Sample \\; [%s]$'%(str(int(len(rp_all)))))\n",
    "ax.scatter(sinc, rp, c = '#ff8c00', s = 100., lw = 0.5, edgecolor = 'b', zorder = 2, label = r'$\\rm %s \\; [%s]$'%(science, str(int(len(rp)))))\n",
    "ax.set_ylabel(r\"$\\rm R_{p}\\,\\, [R_{\\oplus}]$\", fontsize = 24.)\n",
    "ax.set_xlabel(r\"$\\rm Incident\\,\\, Flux\\,\\, [F_{\\oplus}]$\", fontsize = 24.)\n",
    "ax.tick_params(axis = 'both', which = 'minor', length = 5, width = 1, direction = 'inout')\n",
    "ax.tick_params(axis = 'both', which = 'major', length = 8, width = 2, direction = 'inout')\n",
    "ax.yaxis.set_ticks_position('both')\n",
    "ax.xaxis.set_ticks_position('both')\n",
    "plt.yscale(\"log\")\n",
    "plt.xscale(\"log\")\n",
    "ax.axvspan(0.25, 10., facecolor = 'g', alpha = 0.25, zorder = 0, label = r'$\\rm Optimistic \\; HZ$')\n",
    "ax.axvspan(0.25, 1.1, facecolor = 'g', alpha = 0.75, zorder = 0, label = r'$\\rm Conservative \\; HZ$')\n",
    "ax.set_xticks([0.1, 1, 10, 100, 1000, 10000, 100000])\n",
    "ax.set_xticklabels([r'$10^{-1}$', r'$10^{0}$', r'$10^{1}$', r'$10^{2}$', r'$10^{3}$', r'$10^{4}$', r'$10^{5}$'])\n",
    "ax.set_yticks([1, 10])\n",
    "ax.set_yticklabels([r'$1$', r'$10$'])\n",
    "ax.legend(fontsize = 20., loc = 'center left', bbox_to_anchor = (1, 0.5), markerscale = 1.25)\n",
    "plt.tick_params(labelsize = 18)\n",
    "plt.xlim([15000., 1.])\n",
    "plt.ylim([0.9, 22.])\n",
    "plt.tight_layout()"
   ]
  },
  {
   "cell_type": "code",
   "execution_count": null,
   "metadata": {},
   "outputs": [],
   "source": []
  }
 ],
 "metadata": {
  "celltoolbar": "Raw Cell Format",
  "kernelspec": {
   "display_name": "Python 3",
   "language": "python",
   "name": "python3"
  },
  "language_info": {
   "codemirror_mode": {
    "name": "ipython",
    "version": 3
   },
   "file_extension": ".py",
   "mimetype": "text/x-python",
   "name": "python",
   "nbconvert_exporter": "python",
   "pygments_lexer": "ipython3",
   "version": "3.7.8"
  }
 },
 "nbformat": 4,
 "nbformat_minor": 2
}
